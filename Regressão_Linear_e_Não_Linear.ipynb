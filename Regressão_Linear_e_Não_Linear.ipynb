{
  "nbformat": 4,
  "nbformat_minor": 0,
  "metadata": {
    "colab": {
      "name": "Regressão Linear e Não Linear.ipynb",
      "provenance": [],
      "collapsed_sections": []
    },
    "kernelspec": {
      "display_name": "Python 3",
      "name": "python3"
    },
    "language_info": {
      "name": "python"
    }
  },
  "cells": [
    {
      "cell_type": "markdown",
      "metadata": {
        "id": "sPQEYeeP4aXA"
      },
      "source": [
        "#Regressão"
      ]
    },
    {
      "cell_type": "markdown",
      "metadata": {
        "id": "JDqcI_WTMYX9"
      },
      "source": [
        "##Importar e Instalar Libs"
      ]
    },
    {
      "cell_type": "markdown",
      "metadata": {
        "id": "XH_5aMftYVys"
      },
      "source": [
        "https://plotnine.readthedocs.io/en/stable/generated/plotnine.stats.stat_function.html"
      ]
    },
    {
      "cell_type": "code",
      "metadata": {
        "id": "G6_uiEgo2z6_"
      },
      "source": [
        "!pip install pandas plotnine\n",
        "!pip install pyforest\n",
        "!pip install dplython"
      ],
      "execution_count": null,
      "outputs": []
    },
    {
      "cell_type": "code",
      "metadata": {
        "id": "jzK7n1250A7V"
      },
      "source": [
        "from pyforest import *\n",
        "from plotnine import *\n",
        "from dplython import *\n",
        "from scipy.stats import norm\n",
        "from sklearn.preprocessing import power_transform"
      ],
      "execution_count": 218,
      "outputs": []
    },
    {
      "cell_type": "code",
      "metadata": {
        "id": "gRyXK80a2mmZ"
      },
      "source": [
        "import statsmodels.formula.api as smf"
      ],
      "execution_count": 3,
      "outputs": []
    },
    {
      "cell_type": "code",
      "metadata": {
        "colab": {
          "base_uri": "https://localhost:8080/",
          "height": 17
        },
        "id": "wD1nyGoI4rBN",
        "outputId": "93c87763-8c0a-4d0a-db04-1d7f28ea7f4f"
      },
      "source": [
        "np.set_printoptions(suppress=True) "
      ],
      "execution_count": 4,
      "outputs": [
        {
          "output_type": "display_data",
          "data": {
            "application/javascript": [
              "\n",
              "        if (window._pyforest_update_imports_cell) { window._pyforest_update_imports_cell('import numpy as np'); }\n",
              "    "
            ],
            "text/plain": [
              "<IPython.core.display.Javascript object>"
            ]
          },
          "metadata": {
            "tags": []
          }
        }
      ]
    },
    {
      "cell_type": "markdown",
      "metadata": {
        "id": "qLpPMAO_4hth"
      },
      "source": [
        "##Importar Base de Dados"
      ]
    },
    {
      "cell_type": "code",
      "metadata": {
        "id": "QpltA_xG3Ei_",
        "colab": {
          "base_uri": "https://localhost:8080/",
          "height": 203
        },
        "outputId": "e52f89c7-b9a3-4dc2-ae13-300c6f9c10b6"
      },
      "source": [
        "bebes=pd.read_csv('/content/drive/MyDrive/Dataset_Excel_CSV/bebes.csv')\n",
        "bebes.head()"
      ],
      "execution_count": 200,
      "outputs": [
        {
          "output_type": "display_data",
          "data": {
            "application/javascript": [
              "\n",
              "        if (window._pyforest_update_imports_cell) { window._pyforest_update_imports_cell('import plotly.express as px\\nfrom openpyxl import load_workbook\\nimport altair as alt\\nimport nltk\\nimport lightgbm as lgb\\nimport spacy\\nfrom statsmodels.tsa.arima_model import ARIMA\\nfrom sklearn.preprocessing import OneHotEncoder\\nimport statistics\\nimport matplotlib as mpl\\nimport sklearn\\nfrom sklearn.model_selection import cross_val_score\\nimport plotly.graph_objs as go\\nimport sys\\nimport matplotlib.pyplot as plt\\nimport plotly as py\\nimport pandas as pd\\nimport pickle\\nfrom sklearn.feature_extraction.text import CountVectorizer\\nimport fastai\\nimport glob\\nimport numpy as np\\nimport xgboost as xgb\\nfrom sklearn import metrics\\nimport fbprophet\\nfrom sklearn.preprocessing import PolynomialFeatures\\nimport cv2\\nimport skimage\\nimport bokeh\\nimport pydot\\nfrom scipy import stats\\nimport gensim'); }\n",
              "    "
            ],
            "text/plain": [
              "<IPython.core.display.Javascript object>"
            ]
          },
          "metadata": {
            "tags": []
          }
        },
        {
          "output_type": "execute_result",
          "data": {
            "text/html": [
              "<div>\n",
              "<style scoped>\n",
              "    .dataframe tbody tr th:only-of-type {\n",
              "        vertical-align: middle;\n",
              "    }\n",
              "\n",
              "    .dataframe tbody tr th {\n",
              "        vertical-align: top;\n",
              "    }\n",
              "\n",
              "    .dataframe thead th {\n",
              "        text-align: right;\n",
              "    }\n",
              "</style>\n",
              "<table border=\"1\" class=\"dataframe\">\n",
              "  <thead>\n",
              "    <tr style=\"text-align: right;\">\n",
              "      <th></th>\n",
              "      <th>comprimento</th>\n",
              "      <th>idade</th>\n",
              "    </tr>\n",
              "  </thead>\n",
              "  <tbody>\n",
              "    <tr>\n",
              "      <th>0</th>\n",
              "      <td>63.07</td>\n",
              "      <td>19.00</td>\n",
              "    </tr>\n",
              "    <tr>\n",
              "      <th>1</th>\n",
              "      <td>65.63</td>\n",
              "      <td>21.00</td>\n",
              "    </tr>\n",
              "    <tr>\n",
              "      <th>2</th>\n",
              "      <td>65.63</td>\n",
              "      <td>22.50</td>\n",
              "    </tr>\n",
              "    <tr>\n",
              "      <th>3</th>\n",
              "      <td>66.73</td>\n",
              "      <td>22.50</td>\n",
              "    </tr>\n",
              "    <tr>\n",
              "      <th>4</th>\n",
              "      <td>66.37</td>\n",
              "      <td>23.25</td>\n",
              "    </tr>\n",
              "  </tbody>\n",
              "</table>\n",
              "</div>"
            ],
            "text/plain": [
              "   comprimento  idade\n",
              "0        63.07  19.00\n",
              "1        65.63  21.00\n",
              "2        65.63  22.50\n",
              "3        66.73  22.50\n",
              "4        66.37  23.25"
            ]
          },
          "metadata": {
            "tags": []
          },
          "execution_count": 200
        }
      ]
    },
    {
      "cell_type": "markdown",
      "metadata": {
        "id": "sc8uyKsR4YtO"
      },
      "source": [
        "##Sumário"
      ]
    },
    {
      "cell_type": "code",
      "metadata": {
        "id": "_8E9ltDp3b75",
        "colab": {
          "base_uri": "https://localhost:8080/",
          "height": 110
        },
        "outputId": "8718d765-6b04-4c0f-a448-9a74ad28e2b9"
      },
      "source": [
        "bebes.describe().transpose()"
      ],
      "execution_count": 201,
      "outputs": [
        {
          "output_type": "execute_result",
          "data": {
            "text/html": [
              "<div>\n",
              "<style scoped>\n",
              "    .dataframe tbody tr th:only-of-type {\n",
              "        vertical-align: middle;\n",
              "    }\n",
              "\n",
              "    .dataframe tbody tr th {\n",
              "        vertical-align: top;\n",
              "    }\n",
              "\n",
              "    .dataframe thead th {\n",
              "        text-align: right;\n",
              "    }\n",
              "</style>\n",
              "<table border=\"1\" class=\"dataframe\">\n",
              "  <thead>\n",
              "    <tr style=\"text-align: right;\">\n",
              "      <th></th>\n",
              "      <th>count</th>\n",
              "      <th>mean</th>\n",
              "      <th>std</th>\n",
              "      <th>min</th>\n",
              "      <th>25%</th>\n",
              "      <th>50%</th>\n",
              "      <th>75%</th>\n",
              "      <th>max</th>\n",
              "    </tr>\n",
              "  </thead>\n",
              "  <tbody>\n",
              "    <tr>\n",
              "      <th>comprimento</th>\n",
              "      <td>74.0</td>\n",
              "      <td>66.921622</td>\n",
              "      <td>12.852386</td>\n",
              "      <td>31.90</td>\n",
              "      <td>56.47</td>\n",
              "      <td>70.4</td>\n",
              "      <td>75.8075</td>\n",
              "      <td>87.63</td>\n",
              "    </tr>\n",
              "    <tr>\n",
              "      <th>idade</th>\n",
              "      <td>74.0</td>\n",
              "      <td>25.312162</td>\n",
              "      <td>12.975168</td>\n",
              "      <td>2.15</td>\n",
              "      <td>12.50</td>\n",
              "      <td>26.0</td>\n",
              "      <td>33.0000</td>\n",
              "      <td>60.00</td>\n",
              "    </tr>\n",
              "  </tbody>\n",
              "</table>\n",
              "</div>"
            ],
            "text/plain": [
              "             count       mean        std    min    25%   50%      75%    max\n",
              "comprimento   74.0  66.921622  12.852386  31.90  56.47  70.4  75.8075  87.63\n",
              "idade         74.0  25.312162  12.975168   2.15  12.50  26.0  33.0000  60.00"
            ]
          },
          "metadata": {
            "tags": []
          },
          "execution_count": 201
        }
      ]
    },
    {
      "cell_type": "code",
      "metadata": {
        "id": "ObvYtsWw5K7Y",
        "colab": {
          "base_uri": "https://localhost:8080/",
          "height": 464
        },
        "outputId": "cc501d41-e317-4999-86e2-887289ddeef9"
      },
      "source": [
        "ggplot(bebes, aes('idade', 'comprimento')) + \\\n",
        "  geom_point(color = \"#333333\", alpha = 0.6, size = 2) + \\\n",
        "  geom_smooth(aes('idade', 'comprimento'),\n",
        "              method='lm',se=False, color= \"#FDE725FF\") + \\\n",
        "  geom_smooth(aes('idade','comprimento'),\n",
        "              color = \"#440154FF\", se = False) + \\\n",
        "  labs(x = \"Idade em semanas\", y = \"Comprimento em cm\") + \\\n",
        "  theme_bw()"
      ],
      "execution_count": 202,
      "outputs": [
        {
          "output_type": "display_data",
          "data": {
            "image/png": "[encoded data removed]",
            "text/plain": [
              "<Figure size 640x480 with 1 Axes>"
            ]
          },
          "metadata": {
            "tags": []
          }
        },
        {
          "output_type": "execute_result",
          "data": {
            "text/plain": [
              "<ggplot: (8754839049329)>"
            ]
          },
          "metadata": {
            "tags": []
          },
          "execution_count": 202
        }
      ]
    },
    {
      "cell_type": "code",
      "metadata": {
        "id": "vfkikMLt2a-m"
      },
      "source": [
        "X=bebes['idade']\n",
        "y=bebes['comprimento']"
      ],
      "execution_count": 203,
      "outputs": []
    },
    {
      "cell_type": "code",
      "metadata": {
        "id": "sJJpHfDC11-4"
      },
      "source": [
        "model=smf.ols(formula='comprimento ~ idade', data=bebes)"
      ],
      "execution_count": 204,
      "outputs": []
    },
    {
      "cell_type": "code",
      "metadata": {
        "id": "sZtI46nf29d6"
      },
      "source": [
        "resultados = model.fit()"
      ],
      "execution_count": 259,
      "outputs": []
    },
    {
      "cell_type": "code",
      "metadata": {
        "colab": {
          "base_uri": "https://localhost:8080/"
        },
        "id": "9GdKoeJI3FgT",
        "outputId": "5313056f-9c67-42bb-c6af-05460618eac0"
      },
      "source": [
        "print(resultados.summary())"
      ],
      "execution_count": 260,
      "outputs": [
        {
          "output_type": "stream",
          "text": [
            "                            OLS Regression Results                            \n",
            "==============================================================================\n",
            "Dep. Variable:            comprimento   R-squared:                       0.903\n",
            "Model:                            OLS   Adj. R-squared:                  0.901\n",
            "Method:                 Least Squares   F-statistic:                     667.7\n",
            "Date:                Wed, 11 Aug 2021   Prob (F-statistic):           3.72e-38\n",
            "Time:                        23:55:24   Log-Likelihood:                -207.26\n",
            "No. Observations:                  74   AIC:                             418.5\n",
            "Df Residuals:                      72   BIC:                             423.1\n",
            "Df Model:                           1                                         \n",
            "Covariance Type:            nonrobust                                         \n",
            "==============================================================================\n",
            "                 coef    std err          t      P>|t|      [0.025      0.975]\n",
            "------------------------------------------------------------------------------\n",
            "Intercept     43.1004      1.034     41.665      0.000      41.038      45.163\n",
            "idade          0.9411      0.036     25.841      0.000       0.868       1.014\n",
            "==============================================================================\n",
            "Omnibus:                       21.203   Durbin-Watson:                   0.278\n",
            "Prob(Omnibus):                  0.000   Jarque-Bera (JB):               29.159\n",
            "Skew:                          -1.218   Prob(JB):                     4.66e-07\n",
            "Kurtosis:                       4.877   Cond. No.                         62.7\n",
            "==============================================================================\n",
            "\n",
            "Warnings:\n",
            "[1] Standard Errors assume that the covariance matrix of the errors is correctly specified.\n"
          ],
          "name": "stdout"
        }
      ]
    },
    {
      "cell_type": "code",
      "metadata": {
        "id": "HzhtzyyG3H9b"
      },
      "source": [
        "from scipy.stats import shapiro"
      ],
      "execution_count": 207,
      "outputs": []
    },
    {
      "cell_type": "code",
      "metadata": {
        "id": "6_pGm8Qr4cXA"
      },
      "source": [
        "W, p_value=shapiro(resultados.resid)"
      ],
      "execution_count": 208,
      "outputs": []
    },
    {
      "cell_type": "code",
      "metadata": {
        "colab": {
          "base_uri": "https://localhost:8080/"
        },
        "id": "MGD94IBKMv8V",
        "outputId": "2d3efe9c-e5aa-4dd8-85c5-89d97d820c45"
      },
      "source": [
        "print(f'W {W}')\n",
        "print(f'p value: {p_value:.9f}')"
      ],
      "execution_count": 209,
      "outputs": [
        {
          "output_type": "stream",
          "text": [
            "W 0.9094864130020142\n",
            "p value: 0.000060124\n"
          ],
          "name": "stdout"
        }
      ]
    },
    {
      "cell_type": "code",
      "metadata": {
        "id": "DGVSEPiPNRs7"
      },
      "source": [
        "bebes.drop(['residuos'],axis=1,inplace=True)"
      ],
      "execution_count": 221,
      "outputs": []
    },
    {
      "cell_type": "code",
      "metadata": {
        "colab": {
          "base_uri": "https://localhost:8080/",
          "height": 490
        },
        "id": "a_5nJY5vdRQP",
        "outputId": "7fe2934c-13ab-44ea-c7eb-ca8b5c9fc9ba"
      },
      "source": [
        "ggplot(bebes >>\\\n",
        "  mutate(residuos=resultados.resid),\n",
        "         aes(x='residuos')) + \\\n",
        "  geom_histogram(aes(y = '..density..'),\n",
        "                 color = \"#7F7F7F\", \n",
        "                 fill = \"#E5E5E5\", \n",
        "                 bins = 30,\n",
        "                 alpha = 0.6) + \\\n",
        "  stat_function(fun=norm.pdf,\n",
        "                args={'loc':np.mean(resultados.resid),\n",
        "                      'scale':np.std(resultados.resid)},                \n",
        "                size = 2,\n",
        "                color=\"#FDE725FF\") +\\\n",
        "   labs(title=\"Gráfico\",\n",
        "        x = \"Resíduos\", \n",
        "        y = \"Frequência\")  +\\\n",
        "   theme(panel_background= element_rect(\"white\"),\n",
        "        panel_grid = element_line(\"#F2F2F2\"),\n",
        "        panel_border = element_rect(np.NaN),\n",
        "        legend_position = \"bottom\")"
      ],
      "execution_count": 231,
      "outputs": [
        {
          "output_type": "display_data",
          "data": {
            "image/png": "[encoded data removed]",
            "text/plain": [
              "<Figure size 640x480 with 1 Axes>"
            ]
          },
          "metadata": {
            "tags": []
          }
        },
        {
          "output_type": "execute_result",
          "data": {
            "text/plain": [
              "<ggplot: (8754838738889)>"
            ]
          },
          "metadata": {
            "tags": []
          },
          "execution_count": 231
        }
      ]
    },
    {
      "cell_type": "code",
      "metadata": {
        "id": "BTyugSmnkGUY"
      },
      "source": [
        "from sklearn.preprocessing import PowerTransformer"
      ],
      "execution_count": 212,
      "outputs": []
    },
    {
      "cell_type": "code",
      "metadata": {
        "colab": {
          "base_uri": "https://localhost:8080/"
        },
        "id": "bzenN-ydkbOu",
        "outputId": "8cf703e7-082e-4786-adb4-8745faae866c"
      },
      "source": [
        "pt = PowerTransformer(method='box-cox', standardize=False)\n",
        "pt.fit(bebes['comprimento'].values.reshape(-1, 1))"
      ],
      "execution_count": 232,
      "outputs": [
        {
          "output_type": "execute_result",
          "data": {
            "text/plain": [
              "PowerTransformer(copy=True, method='box-cox', standardize=False)"
            ]
          },
          "metadata": {
            "tags": []
          },
          "execution_count": 232
        }
      ]
    },
    {
      "cell_type": "code",
      "metadata": {
        "colab": {
          "base_uri": "https://localhost:8080/"
        },
        "id": "ZDtSrYQCUueq",
        "outputId": "4d6f509c-10e3-4e92-ac6b-3fefa1ff44b0"
      },
      "source": [
        "lambda_bc=pt.lambdas_\n",
        "lambda_bc"
      ],
      "execution_count": 233,
      "outputs": [
        {
          "output_type": "execute_result",
          "data": {
            "text/plain": [
              "array([2.65905101])"
            ]
          },
          "metadata": {
            "tags": []
          },
          "execution_count": 233
        }
      ]
    },
    {
      "cell_type": "code",
      "metadata": {
        "colab": {
          "base_uri": "https://localhost:8080/",
          "height": 203
        },
        "id": "Nxjb_iI-mwTL",
        "outputId": "77186607-03c2-4eda-e54d-b92fc1956772"
      },
      "source": [
        "bebes.head()"
      ],
      "execution_count": 234,
      "outputs": [
        {
          "output_type": "execute_result",
          "data": {
            "text/html": [
              "<div>\n",
              "<style scoped>\n",
              "    .dataframe tbody tr th:only-of-type {\n",
              "        vertical-align: middle;\n",
              "    }\n",
              "\n",
              "    .dataframe tbody tr th {\n",
              "        vertical-align: top;\n",
              "    }\n",
              "\n",
              "    .dataframe thead th {\n",
              "        text-align: right;\n",
              "    }\n",
              "</style>\n",
              "<table border=\"1\" class=\"dataframe\">\n",
              "  <thead>\n",
              "    <tr style=\"text-align: right;\">\n",
              "      <th></th>\n",
              "      <th>comprimento</th>\n",
              "      <th>idade</th>\n",
              "      <th>comprimento_bc</th>\n",
              "    </tr>\n",
              "  </thead>\n",
              "  <tbody>\n",
              "    <tr>\n",
              "      <th>0</th>\n",
              "      <td>63.07</td>\n",
              "      <td>19.00</td>\n",
              "      <td>22966.083193</td>\n",
              "    </tr>\n",
              "    <tr>\n",
              "      <th>1</th>\n",
              "      <td>65.63</td>\n",
              "      <td>21.00</td>\n",
              "      <td>25529.065309</td>\n",
              "    </tr>\n",
              "    <tr>\n",
              "      <th>2</th>\n",
              "      <td>65.63</td>\n",
              "      <td>22.50</td>\n",
              "      <td>25529.065309</td>\n",
              "    </tr>\n",
              "    <tr>\n",
              "      <th>3</th>\n",
              "      <td>66.73</td>\n",
              "      <td>22.50</td>\n",
              "      <td>26682.722356</td>\n",
              "    </tr>\n",
              "    <tr>\n",
              "      <th>4</th>\n",
              "      <td>66.37</td>\n",
              "      <td>23.25</td>\n",
              "      <td>26301.657668</td>\n",
              "    </tr>\n",
              "  </tbody>\n",
              "</table>\n",
              "</div>"
            ],
            "text/plain": [
              "   comprimento  idade  comprimento_bc\n",
              "0        63.07  19.00    22966.083193\n",
              "1        65.63  21.00    25529.065309\n",
              "2        65.63  22.50    25529.065309\n",
              "3        66.73  22.50    26682.722356\n",
              "4        66.37  23.25    26301.657668"
            ]
          },
          "metadata": {
            "tags": []
          },
          "execution_count": 234
        }
      ]
    },
    {
      "cell_type": "code",
      "metadata": {
        "id": "9gIAcgJQj94o"
      },
      "source": [
        "bebes['comprimento_bc'] = (bebes['comprimento'] ** lambda_bc - 1)/ lambda_bc"
      ],
      "execution_count": 215,
      "outputs": []
    },
    {
      "cell_type": "code",
      "metadata": {
        "id": "b3YzaO_dm4X4"
      },
      "source": [
        "modelo_bc = smf.ols(formula='comprimento_bc ~ idade', data=bebes)"
      ],
      "execution_count": 235,
      "outputs": []
    },
    {
      "cell_type": "code",
      "metadata": {
        "id": "Rak7BPExnDvL"
      },
      "source": [
        "resultados_bc=modelo_bc.fit()"
      ],
      "execution_count": 310,
      "outputs": []
    },
    {
      "cell_type": "code",
      "metadata": {
        "colab": {
          "base_uri": "https://localhost:8080/"
        },
        "id": "tPCvxxlXnGDi",
        "outputId": "5d7ddd4f-4269-4b7a-f795-f968f61d207a"
      },
      "source": [
        "print(resultados_bc.summary())"
      ],
      "execution_count": 258,
      "outputs": [
        {
          "output_type": "stream",
          "text": [
            "                            OLS Regression Results                            \n",
            "==============================================================================\n",
            "Dep. Variable:         comprimento_bc   R-squared:                       0.962\n",
            "Model:                            OLS   Adj. R-squared:                  0.961\n",
            "Method:                 Least Squares   F-statistic:                     1822.\n",
            "Date:                Wed, 11 Aug 2021   Prob (F-statistic):           7.16e-53\n",
            "Time:                        23:55:17   Log-Likelihood:                -681.77\n",
            "No. Observations:                  74   AIC:                             1368.\n",
            "Df Residuals:                      72   BIC:                             1372.\n",
            "Df Model:                           1                                         \n",
            "Covariance Type:            nonrobust                                         \n",
            "==============================================================================\n",
            "                 coef    std err          t      P>|t|      [0.025      0.975]\n",
            "------------------------------------------------------------------------------\n",
            "Intercept   4995.1602    630.253      7.926      0.000    3738.774    6251.546\n",
            "idade        947.2298     22.189     42.689      0.000     902.997     991.463\n",
            "==============================================================================\n",
            "Omnibus:                        1.140   Durbin-Watson:                   0.813\n",
            "Prob(Omnibus):                  0.566   Jarque-Bera (JB):                0.557\n",
            "Skew:                           0.098   Prob(JB):                        0.757\n",
            "Kurtosis:                       3.377   Cond. No.                         62.7\n",
            "==============================================================================\n",
            "\n",
            "Warnings:\n",
            "[1] Standard Errors assume that the covariance matrix of the errors is correctly specified.\n"
          ],
          "name": "stdout"
        }
      ]
    },
    {
      "cell_type": "code",
      "metadata": {
        "colab": {
          "base_uri": "https://localhost:8080/",
          "height": 80
        },
        "id": "qhmW79YgnSi5",
        "outputId": "15b839fd-e8fe-43c5-d470-ead5983805e4"
      },
      "source": [
        "pd.DataFrame({'R² OLS':resultados.rsquared,\n",
        "              'R² BoxCOX':resultados_bc.rsquared},index=[0]) "
      ],
      "execution_count": 272,
      "outputs": [
        {
          "output_type": "display_data",
          "data": {
            "application/javascript": [
              "\n",
              "        if (window._pyforest_update_imports_cell) { window._pyforest_update_imports_cell('import plotly.express as px\\nfrom openpyxl import load_workbook\\nimport imutils\\nimport altair as alt\\nimport nltk\\nimport lightgbm as lgb\\nimport spacy\\nfrom statsmodels.tsa.arima_model import ARIMA\\nfrom sklearn.preprocessing import OneHotEncoder\\nimport statistics\\nimport matplotlib as mpl\\nimport sklearn\\nfrom sklearn.model_selection import cross_val_score\\nimport plotly.graph_objs as go\\nimport sys\\nimport matplotlib.pyplot as plt\\nimport plotly as py\\nimport pandas as pd\\nimport pickle\\nfrom sklearn.feature_extraction.text import CountVectorizer\\nimport fastai\\nimport keras\\nimport numpy as np\\nimport xgboost as xgb\\nimport glob\\nfrom sklearn import metrics\\nimport fbprophet\\nfrom xlrd import open_workbook\\nfrom sklearn.preprocessing import PolynomialFeatures\\nimport cv2\\nimport skimage\\nimport bokeh\\nimport pydot\\nimport re\\nfrom scipy import stats\\nimport gensim\\nimport os'); }\n",
              "    "
            ],
            "text/plain": [
              "<IPython.core.display.Javascript object>"
            ]
          },
          "metadata": {
            "tags": []
          }
        },
        {
          "output_type": "execute_result",
          "data": {
            "text/html": [
              "<div>\n",
              "<style scoped>\n",
              "    .dataframe tbody tr th:only-of-type {\n",
              "        vertical-align: middle;\n",
              "    }\n",
              "\n",
              "    .dataframe tbody tr th {\n",
              "        vertical-align: top;\n",
              "    }\n",
              "\n",
              "    .dataframe thead th {\n",
              "        text-align: right;\n",
              "    }\n",
              "</style>\n",
              "<table border=\"1\" class=\"dataframe\">\n",
              "  <thead>\n",
              "    <tr style=\"text-align: right;\">\n",
              "      <th></th>\n",
              "      <th>R² OLS</th>\n",
              "      <th>R² BoxCOX</th>\n",
              "    </tr>\n",
              "  </thead>\n",
              "  <tbody>\n",
              "    <tr>\n",
              "      <th>0</th>\n",
              "      <td>0.902668</td>\n",
              "      <td>0.961993</td>\n",
              "    </tr>\n",
              "  </tbody>\n",
              "</table>\n",
              "</div>"
            ],
            "text/plain": [
              "     R² OLS  R² BoxCOX\n",
              "0  0.902668   0.961993"
            ]
          },
          "metadata": {
            "tags": []
          },
          "execution_count": 272
        }
      ]
    },
    {
      "cell_type": "code",
      "metadata": {
        "id": "h_gr-IOzqUFb"
      },
      "source": [
        "Wb, p_value_bc=shapiro(resultados_bc.resid)"
      ],
      "execution_count": 276,
      "outputs": []
    },
    {
      "cell_type": "code",
      "metadata": {
        "colab": {
          "base_uri": "https://localhost:8080/"
        },
        "id": "qPK37SNura3u",
        "outputId": "bc9ac36c-6201-49e8-e8b0-5dd48969b838"
      },
      "source": [
        "print(f'W {Wb}')\n",
        "print(f'p value: {p_value_bc:.9f}')"
      ],
      "execution_count": 278,
      "outputs": [
        {
          "output_type": "stream",
          "text": [
            "W 0.9764547348022461\n",
            "p value: 0.181918442\n"
          ],
          "name": "stdout"
        }
      ]
    },
    {
      "cell_type": "code",
      "metadata": {
        "colab": {
          "base_uri": "https://localhost:8080/",
          "height": 490
        },
        "id": "wPSmQiWlpWfL",
        "outputId": "0e3c045b-901c-41d2-a143-8a82cfa7c9f3"
      },
      "source": [
        "ggplot(bebes >>\\\n",
        "  mutate(residuos=resultados_bc.resid),\n",
        "         aes(x='residuos')) + \\\n",
        "  geom_histogram(aes(y = '..density..'),\n",
        "                 color = \"#7F7F7F\", \n",
        "                 fill = \"#E5E5E5\", \n",
        "                 bins = 30,\n",
        "                 alpha = 0.6) + \\\n",
        "  stat_function(fun=norm.pdf,\n",
        "                args={'loc':np.mean(resultados_bc.resid),\n",
        "                      'scale':np.std(resultados_bc.resid)},                \n",
        "                size = 2,\n",
        "                color=\"#FDE725FF\") +\\\n",
        "   labs(title=\"Gráfico\",\n",
        "        x = \"Resíduos\", \n",
        "        y = \"Frequência\")  +\\\n",
        "   theme(panel_background= element_rect(\"white\"),\n",
        "        panel_grid = element_line(\"#F2F2F2\"),\n",
        "        panel_border = element_rect(np.NaN),\n",
        "        legend_position = \"bottom\")"
      ],
      "execution_count": 275,
      "outputs": [
        {
          "output_type": "display_data",
          "data": {
            "image/png": "[encoded data removed]",
            "text/plain": [
              "<Figure size 640x480 with 1 Axes>"
            ]
          },
          "metadata": {
            "tags": []
          }
        },
        {
          "output_type": "execute_result",
          "data": {
            "text/plain": [
              "<ggplot: (8754765683953)>"
            ]
          },
          "metadata": {
            "tags": []
          },
          "execution_count": 275
        }
      ]
    },
    {
      "cell_type": "code",
      "metadata": {
        "colab": {
          "base_uri": "https://localhost:8080/"
        },
        "id": "q27VzAPGrgra",
        "outputId": "5bdbf5db-0360-4096-877c-6a9dc839ad86"
      },
      "source": [
        "model.predict(resultados.params,52)"
      ],
      "execution_count": 309,
      "outputs": [
        {
          "output_type": "execute_result",
          "data": {
            "text/plain": [
              "array([2241.22093548,   48.93708332])"
            ]
          },
          "metadata": {
            "tags": []
          },
          "execution_count": 309
        }
      ]
    },
    {
      "cell_type": "code",
      "metadata": {
        "colab": {
          "base_uri": "https://localhost:8080/"
        },
        "id": "-EnTPY5QuV8m",
        "outputId": "85e664c2-8b1a-4491-c70c-940d26cce36e"
      },
      "source": [
        "modelo_bc.predict(resultados_bc.params,52)"
      ],
      "execution_count": 308,
      "outputs": [
        {
          "output_type": "execute_result",
          "data": {
            "text/plain": [
              "array([259748.32852435,  49255.94961087])"
            ]
          },
          "metadata": {
            "tags": []
          },
          "execution_count": 308
        }
      ]
    }
  ]
}