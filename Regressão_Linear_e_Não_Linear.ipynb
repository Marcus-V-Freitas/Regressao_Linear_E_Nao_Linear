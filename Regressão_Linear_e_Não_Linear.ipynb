{
  "nbformat": 4,
  "nbformat_minor": 0,
  "metadata": {
    "colab": {
      "name": "Regressão Linear e Não Linear.ipynb",
      "provenance": [],
      "collapsed_sections": [
        "JDqcI_WTMYX9",
        "qLpPMAO_4hth"
      ]
    },
    "kernelspec": {
      "display_name": "Python 3",
      "name": "python3"
    },
    "language_info": {
      "name": "python"
    }
  },
  "cells": [
    {
      "cell_type": "markdown",
      "metadata": {
        "id": "sPQEYeeP4aXA"
      },
      "source": [
        "#Regressão"
      ]
    },
    {
      "cell_type": "markdown",
      "metadata": {
        "id": "JDqcI_WTMYX9"
      },
      "source": [
        "##Importar e Instalar Libs"
      ]
    },
    {
      "cell_type": "markdown",
      "metadata": {
        "id": "XH_5aMftYVys"
      },
      "source": [
        "https://plotnine.readthedocs.io/en/stable/generated/plotnine.stats.stat_function.html"
      ]
    },
    {
      "cell_type": "code",
      "metadata": {
        "id": "G6_uiEgo2z6_",
        "colab": {
          "base_uri": "https://localhost:8080/"
        },
        "outputId": "7b1f4450-6424-4ebe-fc61-2b82dd71ad75"
      },
      "source": [
        "!pip install pandas 'plotnine==0.8.0'\n",
        "!pip install pyforest\n",
        "!pip install dplython"
      ],
      "execution_count": 35,
      "outputs": [
        {
          "output_type": "stream",
          "text": [
            "Requirement already satisfied: pandas in /usr/local/lib/python3.7/dist-packages (1.1.5)\n",
            "Requirement already satisfied: plotnine==0.8.0 in /usr/local/lib/python3.7/dist-packages (0.8.0)\n",
            "Requirement already satisfied: numpy>=1.19.0 in /usr/local/lib/python3.7/dist-packages (from plotnine==0.8.0) (1.19.5)\n",
            "Requirement already satisfied: mizani>=0.7.3 in /usr/local/lib/python3.7/dist-packages (from plotnine==0.8.0) (0.7.3)\n",
            "Requirement already satisfied: descartes>=1.1.0 in /usr/local/lib/python3.7/dist-packages (from plotnine==0.8.0) (1.1.0)\n",
            "Requirement already satisfied: matplotlib>=3.1.1 in /usr/local/lib/python3.7/dist-packages (from plotnine==0.8.0) (3.2.2)\n",
            "Requirement already satisfied: patsy>=0.5.1 in /usr/local/lib/python3.7/dist-packages (from plotnine==0.8.0) (0.5.1)\n",
            "Requirement already satisfied: statsmodels>=0.12.1 in /usr/local/lib/python3.7/dist-packages (from plotnine==0.8.0) (0.12.2)\n",
            "Requirement already satisfied: scipy>=1.5.0 in /usr/local/lib/python3.7/dist-packages (from plotnine==0.8.0) (1.7.1)\n",
            "Requirement already satisfied: pytz>=2017.2 in /usr/local/lib/python3.7/dist-packages (from pandas) (2018.9)\n",
            "Requirement already satisfied: python-dateutil>=2.7.3 in /usr/local/lib/python3.7/dist-packages (from pandas) (2.8.1)\n",
            "Requirement already satisfied: kiwisolver>=1.0.1 in /usr/local/lib/python3.7/dist-packages (from matplotlib>=3.1.1->plotnine==0.8.0) (1.3.1)\n",
            "Requirement already satisfied: cycler>=0.10 in /usr/local/lib/python3.7/dist-packages (from matplotlib>=3.1.1->plotnine==0.8.0) (0.10.0)\n",
            "Requirement already satisfied: pyparsing!=2.0.4,!=2.1.2,!=2.1.6,>=2.0.1 in /usr/local/lib/python3.7/dist-packages (from matplotlib>=3.1.1->plotnine==0.8.0) (2.4.7)\n",
            "Requirement already satisfied: six in /usr/local/lib/python3.7/dist-packages (from cycler>=0.10->matplotlib>=3.1.1->plotnine==0.8.0) (1.15.0)\n",
            "Requirement already satisfied: palettable in /usr/local/lib/python3.7/dist-packages (from mizani>=0.7.3->plotnine==0.8.0) (3.3.0)\n",
            "Requirement already satisfied: pyforest in /usr/local/lib/python3.7/dist-packages (1.1.0)\n",
            "Requirement already satisfied: dplython in /usr/local/lib/python3.7/dist-packages (0.0.7)\n",
            "Requirement already satisfied: six in /usr/local/lib/python3.7/dist-packages (from dplython) (1.15.0)\n",
            "Requirement already satisfied: pandas in /usr/local/lib/python3.7/dist-packages (from dplython) (1.1.5)\n",
            "Requirement already satisfied: numpy in /usr/local/lib/python3.7/dist-packages (from dplython) (1.19.5)\n",
            "Requirement already satisfied: pytz>=2017.2 in /usr/local/lib/python3.7/dist-packages (from pandas->dplython) (2018.9)\n",
            "Requirement already satisfied: python-dateutil>=2.7.3 in /usr/local/lib/python3.7/dist-packages (from pandas->dplython) (2.8.1)\n"
          ],
          "name": "stdout"
        }
      ]
    },
    {
      "cell_type": "code",
      "metadata": {
        "colab": {
          "base_uri": "https://localhost:8080/"
        },
        "id": "wRcfn9VWLfEo",
        "outputId": "f68d9c50-e6ab-48dd-8f4b-225a186f1dcc"
      },
      "source": [
        "!pip install pandas plotnine ==0.11.0"
      ],
      "execution_count": 306,
      "outputs": [
        {
          "output_type": "stream",
          "text": [
            "\u001b[31mERROR: Invalid requirement: '==0.11.0'\u001b[0m\n"
          ],
          "name": "stdout"
        }
      ]
    },
    {
      "cell_type": "code",
      "metadata": {
        "colab": {
          "base_uri": "https://localhost:8080/",
          "height": 162
        },
        "id": "AOISFgdOLRD4",
        "outputId": "e61eb0bc-3c20-44c2-b18f-6ef641844835"
      },
      "source": [
        "plotnine.__version__"
      ],
      "execution_count": 36,
      "outputs": [
        {
          "output_type": "error",
          "ename": "NameError",
          "evalue": "ignored",
          "traceback": [
            "\u001b[0;31m---------------------------------------------------------------------------\u001b[0m",
            "\u001b[0;31mNameError\u001b[0m                                 Traceback (most recent call last)",
            "\u001b[0;32m<ipython-input-36-a1af8aa30a61>\u001b[0m in \u001b[0;36m<module>\u001b[0;34m()\u001b[0m\n\u001b[0;32m----> 1\u001b[0;31m \u001b[0mplotnine\u001b[0m\u001b[0;34m.\u001b[0m\u001b[0m__version__\u001b[0m\u001b[0;34m\u001b[0m\u001b[0;34m\u001b[0m\u001b[0m\n\u001b[0m",
            "\u001b[0;31mNameError\u001b[0m: name 'plotnine' is not defined"
          ]
        }
      ]
    },
    {
      "cell_type": "code",
      "metadata": {
        "id": "jzK7n1250A7V"
      },
      "source": [
        "from pyforest import *\n",
        "from plotnine import *\n",
        "from dplython import *\n",
        "from scipy.stats import norm\n",
        "from sklearn.preprocessing import PowerTransformer\n",
        "import statsmodels.formula.api as smf"
      ],
      "execution_count": null,
      "outputs": []
    },
    {
      "cell_type": "code",
      "metadata": {
        "id": "wD1nyGoI4rBN"
      },
      "source": [
        "np.set_printoptions(suppress=True) "
      ],
      "execution_count": null,
      "outputs": []
    },
    {
      "cell_type": "markdown",
      "metadata": {
        "id": "qLpPMAO_4hth"
      },
      "source": [
        "##Importar Base de Dados"
      ]
    },
    {
      "cell_type": "code",
      "metadata": {
        "id": "QpltA_xG3Ei_",
        "colab": {
          "base_uri": "https://localhost:8080/",
          "height": 0
        },
        "outputId": "ea744f70-b8b9-4aed-e263-3a794a6b9f5d"
      },
      "source": [
        "bebes=pd.read_csv('/content/drive/MyDrive/Dataset_Excel_CSV/bebes.csv')\n",
        "bebes.head()"
      ],
      "execution_count": 3,
      "outputs": [
        {
          "output_type": "display_data",
          "data": {
            "application/javascript": [
              "\n",
              "        if (window._pyforest_update_imports_cell) { window._pyforest_update_imports_cell('import pandas as pd'); }\n",
              "    "
            ],
            "text/plain": [
              "<IPython.core.display.Javascript object>"
            ]
          },
          "metadata": {
            "tags": []
          }
        },
        {
          "output_type": "execute_result",
          "data": {
            "text/html": [
              "<div>\n",
              "<style scoped>\n",
              "    .dataframe tbody tr th:only-of-type {\n",
              "        vertical-align: middle;\n",
              "    }\n",
              "\n",
              "    .dataframe tbody tr th {\n",
              "        vertical-align: top;\n",
              "    }\n",
              "\n",
              "    .dataframe thead th {\n",
              "        text-align: right;\n",
              "    }\n",
              "</style>\n",
              "<table border=\"1\" class=\"dataframe\">\n",
              "  <thead>\n",
              "    <tr style=\"text-align: right;\">\n",
              "      <th></th>\n",
              "      <th>comprimento</th>\n",
              "      <th>idade</th>\n",
              "    </tr>\n",
              "  </thead>\n",
              "  <tbody>\n",
              "    <tr>\n",
              "      <th>0</th>\n",
              "      <td>63.07</td>\n",
              "      <td>19.00</td>\n",
              "    </tr>\n",
              "    <tr>\n",
              "      <th>1</th>\n",
              "      <td>65.63</td>\n",
              "      <td>21.00</td>\n",
              "    </tr>\n",
              "    <tr>\n",
              "      <th>2</th>\n",
              "      <td>65.63</td>\n",
              "      <td>22.50</td>\n",
              "    </tr>\n",
              "    <tr>\n",
              "      <th>3</th>\n",
              "      <td>66.73</td>\n",
              "      <td>22.50</td>\n",
              "    </tr>\n",
              "    <tr>\n",
              "      <th>4</th>\n",
              "      <td>66.37</td>\n",
              "      <td>23.25</td>\n",
              "    </tr>\n",
              "  </tbody>\n",
              "</table>\n",
              "</div>"
            ],
            "text/plain": [
              "   comprimento  idade\n",
              "0        63.07  19.00\n",
              "1        65.63  21.00\n",
              "2        65.63  22.50\n",
              "3        66.73  22.50\n",
              "4        66.37  23.25"
            ]
          },
          "metadata": {
            "tags": []
          },
          "execution_count": 3
        }
      ]
    },
    {
      "cell_type": "markdown",
      "metadata": {
        "id": "sc8uyKsR4YtO"
      },
      "source": [
        "##Sumário"
      ]
    },
    {
      "cell_type": "code",
      "metadata": {
        "id": "_8E9ltDp3b75",
        "colab": {
          "base_uri": "https://localhost:8080/",
          "height": 110
        },
        "outputId": "f7d63452-f23f-4511-e036-1b8866ef9495"
      },
      "source": [
        "bebes.describe().transpose()"
      ],
      "execution_count": 5,
      "outputs": [
        {
          "output_type": "execute_result",
          "data": {
            "text/html": [
              "<div>\n",
              "<style scoped>\n",
              "    .dataframe tbody tr th:only-of-type {\n",
              "        vertical-align: middle;\n",
              "    }\n",
              "\n",
              "    .dataframe tbody tr th {\n",
              "        vertical-align: top;\n",
              "    }\n",
              "\n",
              "    .dataframe thead th {\n",
              "        text-align: right;\n",
              "    }\n",
              "</style>\n",
              "<table border=\"1\" class=\"dataframe\">\n",
              "  <thead>\n",
              "    <tr style=\"text-align: right;\">\n",
              "      <th></th>\n",
              "      <th>count</th>\n",
              "      <th>mean</th>\n",
              "      <th>std</th>\n",
              "      <th>min</th>\n",
              "      <th>25%</th>\n",
              "      <th>50%</th>\n",
              "      <th>75%</th>\n",
              "      <th>max</th>\n",
              "    </tr>\n",
              "  </thead>\n",
              "  <tbody>\n",
              "    <tr>\n",
              "      <th>comprimento</th>\n",
              "      <td>74.0</td>\n",
              "      <td>66.921622</td>\n",
              "      <td>12.852386</td>\n",
              "      <td>31.90</td>\n",
              "      <td>56.47</td>\n",
              "      <td>70.4</td>\n",
              "      <td>75.8075</td>\n",
              "      <td>87.63</td>\n",
              "    </tr>\n",
              "    <tr>\n",
              "      <th>idade</th>\n",
              "      <td>74.0</td>\n",
              "      <td>25.312162</td>\n",
              "      <td>12.975168</td>\n",
              "      <td>2.15</td>\n",
              "      <td>12.50</td>\n",
              "      <td>26.0</td>\n",
              "      <td>33.0000</td>\n",
              "      <td>60.00</td>\n",
              "    </tr>\n",
              "  </tbody>\n",
              "</table>\n",
              "</div>"
            ],
            "text/plain": [
              "             count       mean        std    min    25%   50%      75%    max\n",
              "comprimento   74.0  66.921622  12.852386  31.90  56.47  70.4  75.8075  87.63\n",
              "idade         74.0  25.312162  12.975168   2.15  12.50  26.0  33.0000  60.00"
            ]
          },
          "metadata": {
            "tags": []
          },
          "execution_count": 5
        }
      ]
    },
    {
      "cell_type": "code",
      "metadata": {
        "id": "ObvYtsWw5K7Y",
        "colab": {
          "base_uri": "https://localhost:8080/",
          "height": 464
        },
        "outputId": "eb785883-5215-43d0-bc0f-e6231c947db2"
      },
      "source": [
        "ggplot(bebes, aes('idade', 'comprimento')) + \\\n",
        "  geom_point(color = \"#333333\", alpha = 0.6, size = 2) + \\\n",
        "  geom_smooth(aes('idade', 'comprimento'),\n",
        "              method='lm',se=False, color= \"#FDE725FF\") + \\\n",
        "  geom_smooth(aes('idade','comprimento'),\n",
        "              color = \"#440154FF\", se = False) + \\\n",
        "  labs(x = \"Idade em semanas\", y = \"Comprimento em cm\") + \\\n",
        "  theme_bw()"
      ],
      "execution_count": 6,
      "outputs": [
        {
          "output_type": "display_data",
          "data": {
            "image/png": "[encoded data removed]",
            "text/plain": [
              "<Figure size 640x480 with 1 Axes>"
            ]
          },
          "metadata": {
            "tags": []
          }
        },
        {
          "output_type": "execute_result",
          "data": {
            "text/plain": [
              "<ggplot: (8763202521745)>"
            ]
          },
          "metadata": {
            "tags": []
          },
          "execution_count": 6
        }
      ]
    },
    {
      "cell_type": "code",
      "metadata": {
        "id": "vfkikMLt2a-m"
      },
      "source": [
        "X=bebes['idade']\n",
        "y=bebes['comprimento']"
      ],
      "execution_count": 7,
      "outputs": []
    },
    {
      "cell_type": "code",
      "metadata": {
        "colab": {
          "base_uri": "https://localhost:8080/",
          "height": 17
        },
        "id": "UV_WHATQpasl",
        "outputId": "7345cb35-c2aa-4370-a2ad-61d9580969eb"
      },
      "source": [
        "X=sm.add_constant(X)\n",
        "model=sm.OLS(y,X)"
      ],
      "execution_count": 8,
      "outputs": [
        {
          "output_type": "display_data",
          "data": {
            "application/javascript": [
              "\n",
              "        if (window._pyforest_update_imports_cell) { window._pyforest_update_imports_cell('import statsmodels.api as sm\\nimport pandas as pd'); }\n",
              "    "
            ],
            "text/plain": [
              "<IPython.core.display.Javascript object>"
            ]
          },
          "metadata": {
            "tags": []
          }
        },
        {
          "output_type": "display_data",
          "data": {
            "application/javascript": [
              "\n",
              "        if (window._pyforest_update_imports_cell) { window._pyforest_update_imports_cell('import statsmodels.api as sm\\nimport pandas as pd'); }\n",
              "    "
            ],
            "text/plain": [
              "<IPython.core.display.Javascript object>"
            ]
          },
          "metadata": {
            "tags": []
          }
        }
      ]
    },
    {
      "cell_type": "code",
      "metadata": {
        "id": "tXKCIT5QpkpY"
      },
      "source": [
        "model = smf.ols(formula='comprimento ~ idade', data=bebes)"
      ],
      "execution_count": 9,
      "outputs": []
    },
    {
      "cell_type": "code",
      "metadata": {
        "id": "sZtI46nf29d6"
      },
      "source": [
        "resultados = model.fit()"
      ],
      "execution_count": 10,
      "outputs": []
    },
    {
      "cell_type": "code",
      "metadata": {
        "colab": {
          "base_uri": "https://localhost:8080/"
        },
        "id": "9GdKoeJI3FgT",
        "outputId": "ca711f62-4025-4cea-ae7f-179cb6b36c75"
      },
      "source": [
        "print(resultados.summary())"
      ],
      "execution_count": 11,
      "outputs": [
        {
          "output_type": "stream",
          "text": [
            "                            OLS Regression Results                            \n",
            "==============================================================================\n",
            "Dep. Variable:            comprimento   R-squared:                       0.903\n",
            "Model:                            OLS   Adj. R-squared:                  0.901\n",
            "Method:                 Least Squares   F-statistic:                     667.7\n",
            "Date:                Thu, 12 Aug 2021   Prob (F-statistic):           3.72e-38\n",
            "Time:                        16:26:16   Log-Likelihood:                -207.26\n",
            "No. Observations:                  74   AIC:                             418.5\n",
            "Df Residuals:                      72   BIC:                             423.1\n",
            "Df Model:                           1                                         \n",
            "Covariance Type:            nonrobust                                         \n",
            "==============================================================================\n",
            "                 coef    std err          t      P>|t|      [0.025      0.975]\n",
            "------------------------------------------------------------------------------\n",
            "Intercept     43.1004      1.034     41.665      0.000      41.038      45.163\n",
            "idade          0.9411      0.036     25.841      0.000       0.868       1.014\n",
            "==============================================================================\n",
            "Omnibus:                       21.203   Durbin-Watson:                   0.278\n",
            "Prob(Omnibus):                  0.000   Jarque-Bera (JB):               29.159\n",
            "Skew:                          -1.218   Prob(JB):                     4.66e-07\n",
            "Kurtosis:                       4.877   Cond. No.                         62.7\n",
            "==============================================================================\n",
            "\n",
            "Notes:\n",
            "[1] Standard Errors assume that the covariance matrix of the errors is correctly specified.\n"
          ],
          "name": "stdout"
        }
      ]
    },
    {
      "cell_type": "code",
      "metadata": {
        "id": "HzhtzyyG3H9b"
      },
      "source": [
        "from scipy.stats import shapiro"
      ],
      "execution_count": 12,
      "outputs": []
    },
    {
      "cell_type": "code",
      "metadata": {
        "id": "6_pGm8Qr4cXA"
      },
      "source": [
        "W, p_value=shapiro(resultados.resid)"
      ],
      "execution_count": 13,
      "outputs": []
    },
    {
      "cell_type": "code",
      "metadata": {
        "colab": {
          "base_uri": "https://localhost:8080/"
        },
        "id": "MGD94IBKMv8V",
        "outputId": "3c116118-3751-4d9e-f8bc-affa3e2a33d6"
      },
      "source": [
        "print(f'W {W}')\n",
        "print(f'p value: {p_value:.9f}')"
      ],
      "execution_count": 14,
      "outputs": [
        {
          "output_type": "stream",
          "text": [
            "W 0.9094864130020142\n",
            "p value: 0.000060124\n"
          ],
          "name": "stdout"
        }
      ]
    },
    {
      "cell_type": "code",
      "metadata": {
        "colab": {
          "base_uri": "https://localhost:8080/",
          "height": 490
        },
        "id": "a_5nJY5vdRQP",
        "outputId": "5115db9f-38cd-4171-da33-db855bfedc8f"
      },
      "source": [
        "ggplot(bebes >>\\\n",
        "  mutate(residuos=resultados.resid),\n",
        "         aes(x='residuos')) + \\\n",
        "  geom_histogram(aes(y = '..density..'),\n",
        "                 color = \"#7F7F7F\", \n",
        "                 fill = \"#E5E5E5\", \n",
        "                 bins = 30,\n",
        "                 alpha = 0.6) + \\\n",
        "  stat_function(fun=norm.pdf,\n",
        "                args={'loc':np.mean(resultados.resid),\n",
        "                      'scale':np.std(resultados.resid)},                \n",
        "                size = 2,\n",
        "                color=\"#FDE725FF\") +\\\n",
        "   labs(title=\"Gráfico\",\n",
        "        x = \"Resíduos\", \n",
        "        y = \"Frequência\")  +\\\n",
        "   theme(panel_background= element_rect(\"white\"),\n",
        "        panel_grid = element_line(\"#F2F2F2\"),\n",
        "        panel_border = element_rect(np.NaN),\n",
        "        legend_position = \"bottom\")"
      ],
      "execution_count": 15,
      "outputs": [
        {
          "output_type": "display_data",
          "data": {
            "image/png": "[encoded data removed]",
            "text/plain": [
              "<Figure size 640x480 with 1 Axes>"
            ]
          },
          "metadata": {
            "tags": []
          }
        },
        {
          "output_type": "execute_result",
          "data": {
            "text/plain": [
              "<ggplot: (8763201177341)>"
            ]
          },
          "metadata": {
            "tags": []
          },
          "execution_count": 15
        }
      ]
    },
    {
      "cell_type": "code",
      "metadata": {
        "colab": {
          "base_uri": "https://localhost:8080/"
        },
        "id": "bzenN-ydkbOu",
        "outputId": "8a5fe8d4-c6b4-43f3-f569-2573d3c6c5b7"
      },
      "source": [
        "pt = PowerTransformer(method='box-cox', standardize=False)\n",
        "pt.fit(bebes['comprimento'].values.reshape(-1, 1))"
      ],
      "execution_count": 16,
      "outputs": [
        {
          "output_type": "execute_result",
          "data": {
            "text/plain": [
              "PowerTransformer(copy=True, method='box-cox', standardize=False)"
            ]
          },
          "metadata": {
            "tags": []
          },
          "execution_count": 16
        }
      ]
    },
    {
      "cell_type": "code",
      "metadata": {
        "colab": {
          "base_uri": "https://localhost:8080/"
        },
        "id": "ZDtSrYQCUueq",
        "outputId": "2068e7fc-edc1-4c89-fb20-88fbb03336c2"
      },
      "source": [
        "lambda_bc=pt.lambdas_\n",
        "lambda_bc"
      ],
      "execution_count": 17,
      "outputs": [
        {
          "output_type": "execute_result",
          "data": {
            "text/plain": [
              "array([2.65905101])"
            ]
          },
          "metadata": {
            "tags": []
          },
          "execution_count": 17
        }
      ]
    },
    {
      "cell_type": "code",
      "metadata": {
        "colab": {
          "base_uri": "https://localhost:8080/",
          "height": 203
        },
        "id": "Nxjb_iI-mwTL",
        "outputId": "aa07a626-dbd5-4b7c-9603-b07ad4f9352d"
      },
      "source": [
        "bebes.head()"
      ],
      "execution_count": 18,
      "outputs": [
        {
          "output_type": "execute_result",
          "data": {
            "text/html": [
              "<div>\n",
              "<style scoped>\n",
              "    .dataframe tbody tr th:only-of-type {\n",
              "        vertical-align: middle;\n",
              "    }\n",
              "\n",
              "    .dataframe tbody tr th {\n",
              "        vertical-align: top;\n",
              "    }\n",
              "\n",
              "    .dataframe thead th {\n",
              "        text-align: right;\n",
              "    }\n",
              "</style>\n",
              "<table border=\"1\" class=\"dataframe\">\n",
              "  <thead>\n",
              "    <tr style=\"text-align: right;\">\n",
              "      <th></th>\n",
              "      <th>comprimento</th>\n",
              "      <th>idade</th>\n",
              "    </tr>\n",
              "  </thead>\n",
              "  <tbody>\n",
              "    <tr>\n",
              "      <th>0</th>\n",
              "      <td>63.07</td>\n",
              "      <td>19.00</td>\n",
              "    </tr>\n",
              "    <tr>\n",
              "      <th>1</th>\n",
              "      <td>65.63</td>\n",
              "      <td>21.00</td>\n",
              "    </tr>\n",
              "    <tr>\n",
              "      <th>2</th>\n",
              "      <td>65.63</td>\n",
              "      <td>22.50</td>\n",
              "    </tr>\n",
              "    <tr>\n",
              "      <th>3</th>\n",
              "      <td>66.73</td>\n",
              "      <td>22.50</td>\n",
              "    </tr>\n",
              "    <tr>\n",
              "      <th>4</th>\n",
              "      <td>66.37</td>\n",
              "      <td>23.25</td>\n",
              "    </tr>\n",
              "  </tbody>\n",
              "</table>\n",
              "</div>"
            ],
            "text/plain": [
              "   comprimento  idade\n",
              "0        63.07  19.00\n",
              "1        65.63  21.00\n",
              "2        65.63  22.50\n",
              "3        66.73  22.50\n",
              "4        66.37  23.25"
            ]
          },
          "metadata": {
            "tags": []
          },
          "execution_count": 18
        }
      ]
    },
    {
      "cell_type": "code",
      "metadata": {
        "id": "9gIAcgJQj94o"
      },
      "source": [
        "bebes['comprimento_bc'] = (bebes['comprimento'] ** lambda_bc - 1)/ lambda_bc"
      ],
      "execution_count": 19,
      "outputs": []
    },
    {
      "cell_type": "code",
      "metadata": {
        "id": "b3YzaO_dm4X4"
      },
      "source": [
        "modelo_bc = smf.ols(formula='comprimento_bc ~ idade', data=bebes)"
      ],
      "execution_count": 20,
      "outputs": []
    },
    {
      "cell_type": "code",
      "metadata": {
        "id": "Rak7BPExnDvL"
      },
      "source": [
        "resultados_bc=modelo_bc.fit()"
      ],
      "execution_count": 21,
      "outputs": []
    },
    {
      "cell_type": "code",
      "metadata": {
        "colab": {
          "base_uri": "https://localhost:8080/"
        },
        "id": "tPCvxxlXnGDi",
        "outputId": "4d42f296-9f49-4fb3-a063-6958217580e1"
      },
      "source": [
        "print(resultados_bc.summary())"
      ],
      "execution_count": 22,
      "outputs": [
        {
          "output_type": "stream",
          "text": [
            "                            OLS Regression Results                            \n",
            "==============================================================================\n",
            "Dep. Variable:         comprimento_bc   R-squared:                       0.962\n",
            "Model:                            OLS   Adj. R-squared:                  0.961\n",
            "Method:                 Least Squares   F-statistic:                     1822.\n",
            "Date:                Thu, 12 Aug 2021   Prob (F-statistic):           7.16e-53\n",
            "Time:                        16:26:17   Log-Likelihood:                -681.77\n",
            "No. Observations:                  74   AIC:                             1368.\n",
            "Df Residuals:                      72   BIC:                             1372.\n",
            "Df Model:                           1                                         \n",
            "Covariance Type:            nonrobust                                         \n",
            "==============================================================================\n",
            "                 coef    std err          t      P>|t|      [0.025      0.975]\n",
            "------------------------------------------------------------------------------\n",
            "Intercept   4995.1602    630.253      7.926      0.000    3738.774    6251.546\n",
            "idade        947.2298     22.189     42.689      0.000     902.997     991.463\n",
            "==============================================================================\n",
            "Omnibus:                        1.140   Durbin-Watson:                   0.813\n",
            "Prob(Omnibus):                  0.566   Jarque-Bera (JB):                0.557\n",
            "Skew:                           0.098   Prob(JB):                        0.757\n",
            "Kurtosis:                       3.377   Cond. No.                         62.7\n",
            "==============================================================================\n",
            "\n",
            "Notes:\n",
            "[1] Standard Errors assume that the covariance matrix of the errors is correctly specified.\n"
          ],
          "name": "stdout"
        }
      ]
    },
    {
      "cell_type": "code",
      "metadata": {
        "colab": {
          "base_uri": "https://localhost:8080/",
          "height": 80
        },
        "id": "qhmW79YgnSi5",
        "outputId": "f11881dc-7caf-4e41-eca6-bb458e0d41b2"
      },
      "source": [
        "pd.DataFrame({'R² OLS':resultados.rsquared,\n",
        "              'R² BoxCOX':resultados_bc.rsquared},index=[0]) "
      ],
      "execution_count": 23,
      "outputs": [
        {
          "output_type": "display_data",
          "data": {
            "application/javascript": [
              "\n",
              "        if (window._pyforest_update_imports_cell) { window._pyforest_update_imports_cell('import statsmodels.api as sm\\nimport pandas as pd'); }\n",
              "    "
            ],
            "text/plain": [
              "<IPython.core.display.Javascript object>"
            ]
          },
          "metadata": {
            "tags": []
          }
        },
        {
          "output_type": "execute_result",
          "data": {
            "text/html": [
              "<div>\n",
              "<style scoped>\n",
              "    .dataframe tbody tr th:only-of-type {\n",
              "        vertical-align: middle;\n",
              "    }\n",
              "\n",
              "    .dataframe tbody tr th {\n",
              "        vertical-align: top;\n",
              "    }\n",
              "\n",
              "    .dataframe thead th {\n",
              "        text-align: right;\n",
              "    }\n",
              "</style>\n",
              "<table border=\"1\" class=\"dataframe\">\n",
              "  <thead>\n",
              "    <tr style=\"text-align: right;\">\n",
              "      <th></th>\n",
              "      <th>R² OLS</th>\n",
              "      <th>R² BoxCOX</th>\n",
              "    </tr>\n",
              "  </thead>\n",
              "  <tbody>\n",
              "    <tr>\n",
              "      <th>0</th>\n",
              "      <td>0.902668</td>\n",
              "      <td>0.961993</td>\n",
              "    </tr>\n",
              "  </tbody>\n",
              "</table>\n",
              "</div>"
            ],
            "text/plain": [
              "     R² OLS  R² BoxCOX\n",
              "0  0.902668   0.961993"
            ]
          },
          "metadata": {
            "tags": []
          },
          "execution_count": 23
        }
      ]
    },
    {
      "cell_type": "code",
      "metadata": {
        "id": "h_gr-IOzqUFb"
      },
      "source": [
        "Wb, p_value_bc=shapiro(resultados_bc.resid)"
      ],
      "execution_count": 24,
      "outputs": []
    },
    {
      "cell_type": "code",
      "metadata": {
        "colab": {
          "base_uri": "https://localhost:8080/"
        },
        "id": "qPK37SNura3u",
        "outputId": "af5e5bb6-f43c-4909-9f03-7dbd6b6f8070"
      },
      "source": [
        "print(f'W {Wb}')\n",
        "print(f'p value: {p_value_bc:.9f}')"
      ],
      "execution_count": 25,
      "outputs": [
        {
          "output_type": "stream",
          "text": [
            "W 0.9764547348022461\n",
            "p value: 0.181918442\n"
          ],
          "name": "stdout"
        }
      ]
    },
    {
      "cell_type": "code",
      "metadata": {
        "colab": {
          "base_uri": "https://localhost:8080/",
          "height": 490
        },
        "id": "wPSmQiWlpWfL",
        "outputId": "bd7dad0b-e4b3-4f1d-f6ef-f8fd660bf2cd"
      },
      "source": [
        "ggplot(bebes >>\\\n",
        "  mutate(residuos=resultados_bc.resid),\n",
        "         aes(x='residuos')) + \\\n",
        "  geom_histogram(aes(y = '..density..'),\n",
        "                 color = \"#7F7F7F\", \n",
        "                 fill = \"#E5E5E5\", \n",
        "                 bins = 30,\n",
        "                 alpha = 0.6) + \\\n",
        "  stat_function(fun=norm.pdf,\n",
        "                args={'loc':np.mean(resultados_bc.resid),\n",
        "                      'scale':np.std(resultados_bc.resid)},                \n",
        "                size = 2,\n",
        "                color=\"#FDE725FF\") +\\\n",
        "   labs(title=\"Gráfico\",\n",
        "        x = \"Resíduos\", \n",
        "        y = \"Frequência\")  +\\\n",
        "   theme(panel_background= element_rect(\"white\"),\n",
        "        panel_grid = element_line(\"#F2F2F2\"),\n",
        "        panel_border = element_rect(np.NaN),\n",
        "        legend_position = \"bottom\")"
      ],
      "execution_count": 26,
      "outputs": [
        {
          "output_type": "display_data",
          "data": {
            "image/png": "[encoded data removed]",
            "text/plain": [
              "<Figure size 640x480 with 1 Axes>"
            ]
          },
          "metadata": {
            "tags": []
          }
        },
        {
          "output_type": "execute_result",
          "data": {
            "text/plain": [
              "<ggplot: (8763192220913)>"
            ]
          },
          "metadata": {
            "tags": []
          },
          "execution_count": 26
        }
      ]
    },
    {
      "cell_type": "code",
      "metadata": {
        "colab": {
          "base_uri": "https://localhost:8080/",
          "height": 50
        },
        "id": "q27VzAPGrgra",
        "outputId": "c0eb1653-3e9c-4d3f-844b-3f1001529b6c"
      },
      "source": [
        "resultados.predict(exog=pd.DataFrame({'idade':[52]}))"
      ],
      "execution_count": 27,
      "outputs": [
        {
          "output_type": "display_data",
          "data": {
            "application/javascript": [
              "\n",
              "        if (window._pyforest_update_imports_cell) { window._pyforest_update_imports_cell('import statsmodels.api as sm\\nimport pandas as pd'); }\n",
              "    "
            ],
            "text/plain": [
              "<IPython.core.display.Javascript object>"
            ]
          },
          "metadata": {
            "tags": []
          }
        },
        {
          "output_type": "execute_result",
          "data": {
            "text/plain": [
              "0    92.037486\n",
              "dtype: float64"
            ]
          },
          "metadata": {
            "tags": []
          },
          "execution_count": 27
        }
      ]
    },
    {
      "cell_type": "code",
      "metadata": {
        "colab": {
          "base_uri": "https://localhost:8080/",
          "height": 50
        },
        "id": "-EnTPY5QuV8m",
        "outputId": "13446a0e-bf12-415f-9065-479b8ce98d93"
      },
      "source": [
        "resultados_bc.predict(exog=pd.DataFrame({'idade':[52]}))"
      ],
      "execution_count": 28,
      "outputs": [
        {
          "output_type": "display_data",
          "data": {
            "application/javascript": [
              "\n",
              "        if (window._pyforest_update_imports_cell) { window._pyforest_update_imports_cell('import statsmodels.api as sm\\nimport pandas as pd'); }\n",
              "    "
            ],
            "text/plain": [
              "<IPython.core.display.Javascript object>"
            ]
          },
          "metadata": {
            "tags": []
          }
        },
        {
          "output_type": "execute_result",
          "data": {
            "text/plain": [
              "0    54251.109775\n",
              "dtype: float64"
            ]
          },
          "metadata": {
            "tags": []
          },
          "execution_count": 28
        }
      ]
    },
    {
      "cell_type": "code",
      "metadata": {
        "colab": {
          "base_uri": "https://localhost:8080/"
        },
        "id": "JhFRA9_vtRvK",
        "outputId": "deac9979-ae96-4b68-8e76-8ab2d7de654c"
      },
      "source": [
        "(((54251.109775 * lambda_bc) + 1)) ** (1/lambda_bc)"
      ],
      "execution_count": 29,
      "outputs": [
        {
          "output_type": "execute_result",
          "data": {
            "text/plain": [
              "array([87.14006473])"
            ]
          },
          "metadata": {
            "tags": []
          },
          "execution_count": 29
        }
      ]
    },
    {
      "cell_type": "code",
      "metadata": {
        "id": "QyOBqOQctmQZ"
      },
      "source": [
        "bebes['y_hat_linear']=resultados.fittedvalues\n",
        "bebes['y_hat_boxcox']=((resultados_bc.fittedvalues * lambda_bc) +1)** (1/lambda_bc)"
      ],
      "execution_count": 30,
      "outputs": []
    },
    {
      "cell_type": "code",
      "metadata": {
        "colab": {
          "base_uri": "https://localhost:8080/",
          "height": 203
        },
        "id": "7niLiKvpuT-v",
        "outputId": "ef3c7e66-8d44-4c09-9de2-217a64ca95ae"
      },
      "source": [
        "DplyFrame(bebes) >> \\\n",
        "  select(bebes.idade,bebes.comprimento,bebes.y_hat_linear,bebes.y_hat_boxcox) >>\\\n",
        "  head()"
      ],
      "execution_count": 39,
      "outputs": [
        {
          "output_type": "execute_result",
          "data": {
            "text/html": [
              "<div>\n",
              "<style scoped>\n",
              "    .dataframe tbody tr th:only-of-type {\n",
              "        vertical-align: middle;\n",
              "    }\n",
              "\n",
              "    .dataframe tbody tr th {\n",
              "        vertical-align: top;\n",
              "    }\n",
              "\n",
              "    .dataframe thead th {\n",
              "        text-align: right;\n",
              "    }\n",
              "</style>\n",
              "<table border=\"1\" class=\"dataframe\">\n",
              "  <thead>\n",
              "    <tr style=\"text-align: right;\">\n",
              "      <th></th>\n",
              "      <th>idade</th>\n",
              "      <th>comprimento</th>\n",
              "      <th>y_hat_linear</th>\n",
              "      <th>y_hat_boxcox</th>\n",
              "    </tr>\n",
              "  </thead>\n",
              "  <tbody>\n",
              "    <tr>\n",
              "      <th>0</th>\n",
              "      <td>19.00</td>\n",
              "      <td>63.07</td>\n",
              "      <td>60.981260</td>\n",
              "      <td>63.097300</td>\n",
              "    </tr>\n",
              "    <tr>\n",
              "      <th>1</th>\n",
              "      <td>21.00</td>\n",
              "      <td>65.63</td>\n",
              "      <td>62.863455</td>\n",
              "      <td>65.004303</td>\n",
              "    </tr>\n",
              "    <tr>\n",
              "      <th>2</th>\n",
              "      <td>22.50</td>\n",
              "      <td>65.63</td>\n",
              "      <td>64.275102</td>\n",
              "      <td>66.375858</td>\n",
              "    </tr>\n",
              "    <tr>\n",
              "      <th>3</th>\n",
              "      <td>22.50</td>\n",
              "      <td>66.73</td>\n",
              "      <td>64.275102</td>\n",
              "      <td>66.375858</td>\n",
              "    </tr>\n",
              "    <tr>\n",
              "      <th>4</th>\n",
              "      <td>23.25</td>\n",
              "      <td>66.37</td>\n",
              "      <td>64.980925</td>\n",
              "      <td>67.044337</td>\n",
              "    </tr>\n",
              "  </tbody>\n",
              "</table>\n",
              "</div>"
            ],
            "text/plain": [
              "   idade  comprimento  y_hat_linear  y_hat_boxcox\n",
              "0  19.00        63.07     60.981260     63.097300\n",
              "1  21.00        65.63     62.863455     65.004303\n",
              "2  22.50        65.63     64.275102     66.375858\n",
              "3  22.50        66.73     64.275102     66.375858\n",
              "4  23.25        66.37     64.980925     67.044337"
            ]
          },
          "metadata": {
            "tags": []
          },
          "execution_count": 39
        }
      ]
    },
    {
      "cell_type": "code",
      "metadata": {
        "id": "iz6Mqgb2KYOe"
      },
      "source": [
        "def poly(x, degree=1):  \n",
        "    \"\"\"\n",
        "    Polinômio\n",
        "    Esses são fatores não ortogonais, mas pode não importar se\n",
        "    nós só precisamos disso para previsões (sem interpretar o\n",
        "    coeficientes) ou visualização.\n",
        "    \"\"\"\n",
        "    d = {}\n",
        "    for i in range(degree+1):\n",
        "        if i == 1:\n",
        "            d['x'] = x\n",
        "        else:\n",
        "            d[f'x**{i}'] = np.power(x, i)\n",
        "    return pd.DataFrame(d)"
      ],
      "execution_count": 116,
      "outputs": []
    },
    {
      "cell_type": "code",
      "metadata": {
        "colab": {
          "base_uri": "https://localhost:8080/",
          "height": 490
        },
        "id": "JQEuucIIOnQs",
        "outputId": "6bdc4731-9d9b-4d0a-9bfa-d08cbf9569c0"
      },
      "source": [
        "(ggplot(bebes) + \n",
        " geom_smooth(aes(x='comprimento', y='y_hat_linear'),\n",
        "             method='lm', formula='y ~ poly(x, degree=3)', se=False,color=\"yellow\") +\n",
        " geom_point(aes('comprimento', 'y_hat_linear'),\n",
        "            color = \"#FDE725FF\", alpha = 0.6, size = 2) +\n",
        " geom_smooth(aes(x='comprimento', y='y_hat_boxcox'),\n",
        "             method='lm', formula='y ~ poly(x, degree=3)', se=False,color=\"purple\") +\n",
        " geom_point(aes('comprimento', 'y_hat_boxcox'),\n",
        "            color = \"#440154FF\", alpha = 0.6, size = 2) +\n",
        " geom_smooth(aes(x='comprimento',y='comprimento'), \n",
        "             method = \"lm\", color = \"#440154FF\", size = 1.05,\n",
        "             linetype = \"dashed\") +\n",
        " labs(title=\"Comparação entre modelos\",x='comprimento',y='Fitted Values') +\n",
        " theme(panel_background = element_rect(\"white\"),\n",
        "      panel_grid = element_line(\"grey\"),\n",
        "      panel_border = element_rect(np.nan),\n",
        "      legend_position = \"bottom\"))"
      ],
      "execution_count": 146,
      "outputs": [
        {
          "output_type": "display_data",
          "data": {
            "image/png": "[encoded data removed]",
            "text/plain": [
              "<Figure size 640x480 with 1 Axes>"
            ]
          },
          "metadata": {
            "tags": []
          }
        },
        {
          "output_type": "execute_result",
          "data": {
            "text/plain": [
              "<ggplot: (8763158141341)>"
            ]
          },
          "metadata": {
            "tags": []
          },
          "execution_count": 146
        }
      ]
    }
  ]
}